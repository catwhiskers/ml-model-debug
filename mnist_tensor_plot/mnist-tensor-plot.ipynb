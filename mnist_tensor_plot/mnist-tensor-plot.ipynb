{
 "cells": [
  {
   "cell_type": "markdown",
   "metadata": {},
   "source": [
    "# Visualizing Debugging Tensors of MXNet training"
   ]
  },
  {
   "cell_type": "markdown",
   "metadata": {},
   "source": [
    "### Overview"
   ]
  },
  {
   "cell_type": "markdown",
   "metadata": {},
   "source": [
    "SageMaker Debugger is a new capability of Amazon SageMaker that allows debugging machine learning models. \n",
    "It lets you go beyond just looking at scalars like losses and accuracies during training and gives \n",
    "you full visibility into all the tensors 'flowing through the graph' during training. SageMaker Debugger helps you to monitor your training in near real time using rules and would provide you alerts, once it has detected an inconsistency in the training flow.\n",
    "\n",
    "Using SageMaker Debugger is a two step process: Saving tensors and Analysis. In this notebook we will run an MXNet training job and configure SageMaker Debugger to store all tensors from this job. Afterwards we will visualize those tensors in our notebook.\n"
   ]
  },
  {
   "cell_type": "markdown",
   "metadata": {},
   "source": [
    "### Dependencies\n",
    "Before we begin, let us install the library plotly if it is not already present in the environment.\n",
    "If the below cell installs the library for the first time, you'll have to restart the kernel and come back to the notebook. In addition to that, in order for our vizualiation to access tensors let's install smdebug - debugger library that provides API access to tensors emitted during training job."
   ]
  },
  {
   "cell_type": "code",
   "execution_count": 8,
   "metadata": {},
   "outputs": [
    {
     "name": "stdout",
     "output_type": "stream",
     "text": [
      "Requirement already satisfied: plotly in /home/ec2-user/anaconda3/envs/mxnet_p36/lib/python3.6/site-packages (4.14.3)\n",
      "Requirement already satisfied: six in /home/ec2-user/anaconda3/envs/mxnet_p36/lib/python3.6/site-packages (from plotly) (1.15.0)\n",
      "Requirement already satisfied: retrying>=1.3.3 in /home/ec2-user/anaconda3/envs/mxnet_p36/lib/python3.6/site-packages (from plotly) (1.3.3)\n",
      "Collecting smdebug\n",
      "  Using cached smdebug-1.0.7-py2.py3-none-any.whl (263 kB)\n",
      "Requirement already satisfied: protobuf>=3.6.0 in /home/ec2-user/anaconda3/envs/mxnet_p36/lib/python3.6/site-packages (from smdebug) (3.15.2)\n",
      "Collecting pyinstrument>=3.1.3\n",
      "  Using cached pyinstrument-3.4.1-py2.py3-none-any.whl (81 kB)\n",
      "Requirement already satisfied: numpy>=1.16.0 in /home/ec2-user/anaconda3/envs/mxnet_p36/lib/python3.6/site-packages (from smdebug) (1.19.5)\n",
      "Requirement already satisfied: boto3>=1.10.32 in /home/ec2-user/anaconda3/envs/mxnet_p36/lib/python3.6/site-packages (from smdebug) (1.17.32)\n",
      "Requirement already satisfied: packaging in /home/ec2-user/anaconda3/envs/mxnet_p36/lib/python3.6/site-packages (from smdebug) (20.9)\n",
      "Requirement already satisfied: s3transfer<0.4.0,>=0.3.0 in /home/ec2-user/anaconda3/envs/mxnet_p36/lib/python3.6/site-packages (from boto3>=1.10.32->smdebug) (0.3.4)\n",
      "Requirement already satisfied: jmespath<1.0.0,>=0.7.1 in /home/ec2-user/anaconda3/envs/mxnet_p36/lib/python3.6/site-packages (from boto3>=1.10.32->smdebug) (0.10.0)\n",
      "Requirement already satisfied: botocore<1.21.0,>=1.20.32 in /home/ec2-user/anaconda3/envs/mxnet_p36/lib/python3.6/site-packages (from boto3>=1.10.32->smdebug) (1.20.32)\n",
      "Requirement already satisfied: python-dateutil<3.0.0,>=2.1 in /home/ec2-user/anaconda3/envs/mxnet_p36/lib/python3.6/site-packages (from botocore<1.21.0,>=1.20.32->boto3>=1.10.32->smdebug) (2.8.1)\n",
      "Requirement already satisfied: urllib3<1.27,>=1.25.4 in /home/ec2-user/anaconda3/envs/mxnet_p36/lib/python3.6/site-packages (from botocore<1.21.0,>=1.20.32->boto3>=1.10.32->smdebug) (1.26.3)\n",
      "Requirement already satisfied: six>=1.9 in /home/ec2-user/anaconda3/envs/mxnet_p36/lib/python3.6/site-packages (from protobuf>=3.6.0->smdebug) (1.15.0)\n",
      "Collecting pyinstrument-cext>=0.2.2\n",
      "  Using cached pyinstrument_cext-0.2.4-cp36-cp36m-manylinux2010_x86_64.whl (20 kB)\n",
      "Requirement already satisfied: pyparsing>=2.0.2 in /home/ec2-user/anaconda3/envs/mxnet_p36/lib/python3.6/site-packages (from packaging->smdebug) (2.4.7)\n",
      "Installing collected packages: pyinstrument-cext, pyinstrument, smdebug\n",
      "Successfully installed pyinstrument-3.4.1 pyinstrument-cext-0.2.4 smdebug-1.0.7\n"
     ]
    }
   ],
   "source": [
    "! python -m pip install plotly\n",
    "! python -m pip install smdebug"
   ]
  },
  {
   "cell_type": "markdown",
   "metadata": {},
   "source": [
    "### Configure and run the training job\n",
    "\n",
    "Now we'll call the Sagemaker MXNet Estimator to kick off a training job with Debugger attached to it.\n",
    "\n",
    "The `entry_point_script` points to the MXNet training script."
   ]
  },
  {
   "cell_type": "code",
   "execution_count": 1,
   "metadata": {},
   "outputs": [
    {
     "name": "stderr",
     "output_type": "stream",
     "text": [
      "train_instance_type has been renamed in sagemaker>=2.\n",
      "See: https://sagemaker.readthedocs.io/en/stable/v2.html for details.\n",
      "train_instance_count has been renamed in sagemaker>=2.\n",
      "See: https://sagemaker.readthedocs.io/en/stable/v2.html for details.\n",
      "train_instance_type has been renamed in sagemaker>=2.\n",
      "See: https://sagemaker.readthedocs.io/en/stable/v2.html for details.\n",
      "train_max_run has been renamed in sagemaker>=2.\n",
      "See: https://sagemaker.readthedocs.io/en/stable/v2.html for details.\n"
     ]
    }
   ],
   "source": [
    "import os\n",
    "import sagemaker\n",
    "from sagemaker.debugger import DebuggerHookConfig, CollectionConfig\n",
    "from sagemaker.mxnet import MXNet\n",
    "\n",
    "sagemaker_session = sagemaker.Session()\n",
    "\n",
    "entry_point_script = './scripts/mxnet_gluon_save_all_demo.py'\n",
    "hyperparameters = {'batch-size': 256}\n",
    "base_job_name = 'mnist-tensor-plot'\n",
    "\n",
    "# Make sure to set this to your bucket and location\n",
    "BUCKET_NAME = sagemaker_session.default_bucket()\n",
    "LOCATION_IN_BUCKET = 'mnist-tensor-plot'\n",
    "s3_bucket_for_tensors = 's3://{BUCKET_NAME}/{LOCATION_IN_BUCKET}'.format(BUCKET_NAME=BUCKET_NAME, LOCATION_IN_BUCKET=LOCATION_IN_BUCKET)\n",
    "\n",
    "estimator = MXNet(role=sagemaker.get_execution_role(),\n",
    "                  base_job_name=base_job_name,\n",
    "                  train_instance_count=1,\n",
    "                  train_instance_type='ml.m4.xlarge',\n",
    "                  entry_point=entry_point_script,\n",
    "                  framework_version='1.6.0',\n",
    "                  train_max_run=3600,\n",
    "                  sagemaker_session=sagemaker_session,\n",
    "                  py_version='py3',\n",
    "                  debugger_hook_config = DebuggerHookConfig(\n",
    "                      s3_output_path=s3_bucket_for_tensors,  # Required\n",
    "                      collection_configs=[\n",
    "                          CollectionConfig(\n",
    "                              name=\"all_tensors\",\n",
    "                              parameters={\n",
    "                                  \"include_regex\": \".*\",\n",
    "                                  \"save_steps\": \"1, 2, 3\"\n",
    "                              }\n",
    "                          )\n",
    "                      ]\n",
    "                  ))"
   ]
  },
  {
   "cell_type": "markdown",
   "metadata": {},
   "source": [
    "Estimator described above will save all tensors of all layers during steps 1, 2 and 3. Now, let's start the training job:"
   ]
  },
  {
   "cell_type": "code",
   "execution_count": 2,
   "metadata": {},
   "outputs": [
    {
     "name": "stdout",
     "output_type": "stream",
     "text": [
      "2021-03-28 13:14:24 Starting - Starting the training job...\n",
      "2021-03-28 13:14:48 Starting - Launching requested ML instancesProfilerReport-1616937264: InProgress\n",
      "......\n",
      "2021-03-28 13:15:53 Starting - Preparing the instances for training.........\n",
      "2021-03-28 13:17:21 Downloading - Downloading input data...\n",
      "2021-03-28 13:17:48 Training - Downloading the training image.\u001b[34m2021-03-28 13:17:58,622 sagemaker-training-toolkit INFO     Imported framework sagemaker_mxnet_container.training\u001b[0m\n",
      "\u001b[34m2021-03-28 13:17:58,625 sagemaker-training-toolkit INFO     No GPUs detected (normal if no gpus installed)\u001b[0m\n",
      "\u001b[34m2021-03-28 13:17:58,643 sagemaker_mxnet_container.training INFO     MXNet training environment: {'SM_HOSTS': '[\"algo-1\"]', 'SM_NETWORK_INTERFACE_NAME': 'eth0', 'SM_HPS': '{}', 'SM_USER_ENTRY_POINT': 'mxnet_gluon_save_all_demo.py', 'SM_FRAMEWORK_PARAMS': '{}', 'SM_RESOURCE_CONFIG': '{\"current_host\":\"algo-1\",\"hosts\":[\"algo-1\"],\"network_interface_name\":\"eth0\"}', 'SM_INPUT_DATA_CONFIG': '{}', 'SM_OUTPUT_DATA_DIR': '/opt/ml/output/data', 'SM_CHANNELS': '[]', 'SM_CURRENT_HOST': 'algo-1', 'SM_MODULE_NAME': 'mxnet_gluon_save_all_demo', 'SM_LOG_LEVEL': '20', 'SM_FRAMEWORK_MODULE': 'sagemaker_mxnet_container.training:main', 'SM_INPUT_DIR': '/opt/ml/input', 'SM_INPUT_CONFIG_DIR': '/opt/ml/input/config', 'SM_OUTPUT_DIR': '/opt/ml/output', 'SM_NUM_CPUS': '4', 'SM_NUM_GPUS': '0', 'SM_MODEL_DIR': '/opt/ml/model', 'SM_MODULE_DIR': 's3://sagemaker-us-west-2-230755935769/mnist-tensor-plot-2021-03-28-13-14-24-061/source/sourcedir.tar.gz', 'SM_TRAINING_ENV': '{\"additional_framework_parameters\":{},\"channel_input_dirs\":{},\"current_host\":\"algo-1\",\"framework_module\":\"sagemaker_mxnet_container.training:main\",\"hosts\":[\"algo-1\"],\"hyperparameters\":{},\"input_config_dir\":\"/opt/ml/input/config\",\"input_data_config\":{},\"input_dir\":\"/opt/ml/input\",\"is_master\":true,\"job_name\":\"mnist-tensor-plot-2021-03-28-13-14-24-061\",\"log_level\":20,\"master_hostname\":\"algo-1\",\"model_dir\":\"/opt/ml/model\",\"module_dir\":\"s3://sagemaker-us-west-2-230755935769/mnist-tensor-plot-2021-03-28-13-14-24-061/source/sourcedir.tar.gz\",\"module_name\":\"mxnet_gluon_save_all_demo\",\"network_interface_name\":\"eth0\",\"num_cpus\":4,\"num_gpus\":0,\"output_data_dir\":\"/opt/ml/output/data\",\"output_dir\":\"/opt/ml/output\",\"output_intermediate_dir\":\"/opt/ml/output/intermediate\",\"resource_config\":{\"current_host\":\"algo-1\",\"hosts\":[\"algo-1\"],\"network_interface_name\":\"eth0\"},\"user_entry_point\":\"mxnet_gluon_save_all_demo.py\"}', 'SM_USER_ARGS': '[]', 'SM_OUTPUT_INTERMEDIATE_DIR': '/opt/ml/output/intermediate'}\u001b[0m\n",
      "\u001b[34m2021-03-28 13:17:59,075 sagemaker-training-toolkit INFO     No GPUs detected (normal if no gpus installed)\u001b[0m\n",
      "\u001b[34m2021-03-28 13:18:00,513 sagemaker-training-toolkit INFO     No GPUs detected (normal if no gpus installed)\u001b[0m\n",
      "\u001b[34m2021-03-28 13:18:00,532 sagemaker-training-toolkit INFO     No GPUs detected (normal if no gpus installed)\u001b[0m\n",
      "\u001b[34m2021-03-28 13:18:00,552 sagemaker-training-toolkit INFO     Invoking user script\n",
      "\u001b[0m\n",
      "\u001b[34mTraining Env:\n",
      "\u001b[0m\n",
      "\u001b[34m{\n",
      "    \"additional_framework_parameters\": {},\n",
      "    \"channel_input_dirs\": {},\n",
      "    \"current_host\": \"algo-1\",\n",
      "    \"framework_module\": \"sagemaker_mxnet_container.training:main\",\n",
      "    \"hosts\": [\n",
      "        \"algo-1\"\n",
      "    ],\n",
      "    \"hyperparameters\": {},\n",
      "    \"input_config_dir\": \"/opt/ml/input/config\",\n",
      "    \"input_data_config\": {},\n",
      "    \"input_dir\": \"/opt/ml/input\",\n",
      "    \"is_master\": true,\n",
      "    \"job_name\": \"mnist-tensor-plot-2021-03-28-13-14-24-061\",\n",
      "    \"log_level\": 20,\n",
      "    \"master_hostname\": \"algo-1\",\n",
      "    \"model_dir\": \"/opt/ml/model\",\n",
      "    \"module_dir\": \"s3://sagemaker-us-west-2-230755935769/mnist-tensor-plot-2021-03-28-13-14-24-061/source/sourcedir.tar.gz\",\n",
      "    \"module_name\": \"mxnet_gluon_save_all_demo\",\n",
      "    \"network_interface_name\": \"eth0\",\n",
      "    \"num_cpus\": 4,\n",
      "    \"num_gpus\": 0,\n",
      "    \"output_data_dir\": \"/opt/ml/output/data\",\n",
      "    \"output_dir\": \"/opt/ml/output\",\n",
      "    \"output_intermediate_dir\": \"/opt/ml/output/intermediate\",\n",
      "    \"resource_config\": {\n",
      "        \"current_host\": \"algo-1\",\n",
      "        \"hosts\": [\n",
      "            \"algo-1\"\n",
      "        ],\n",
      "        \"network_interface_name\": \"eth0\"\n",
      "    },\n",
      "    \"user_entry_point\": \"mxnet_gluon_save_all_demo.py\"\u001b[0m\n",
      "\u001b[34m}\n",
      "\u001b[0m\n",
      "\u001b[34mEnvironment variables:\n",
      "\u001b[0m\n",
      "\u001b[34mSM_HOSTS=[\"algo-1\"]\u001b[0m\n",
      "\u001b[34mSM_NETWORK_INTERFACE_NAME=eth0\u001b[0m\n",
      "\u001b[34mSM_HPS={}\u001b[0m\n",
      "\u001b[34mSM_USER_ENTRY_POINT=mxnet_gluon_save_all_demo.py\u001b[0m\n",
      "\u001b[34mSM_FRAMEWORK_PARAMS={}\u001b[0m\n",
      "\u001b[34mSM_RESOURCE_CONFIG={\"current_host\":\"algo-1\",\"hosts\":[\"algo-1\"],\"network_interface_name\":\"eth0\"}\u001b[0m\n",
      "\u001b[34mSM_INPUT_DATA_CONFIG={}\u001b[0m\n",
      "\u001b[34mSM_OUTPUT_DATA_DIR=/opt/ml/output/data\u001b[0m\n",
      "\u001b[34mSM_CHANNELS=[]\u001b[0m\n",
      "\u001b[34mSM_CURRENT_HOST=algo-1\u001b[0m\n",
      "\u001b[34mSM_MODULE_NAME=mxnet_gluon_save_all_demo\u001b[0m\n",
      "\u001b[34mSM_LOG_LEVEL=20\u001b[0m\n",
      "\u001b[34mSM_FRAMEWORK_MODULE=sagemaker_mxnet_container.training:main\u001b[0m\n",
      "\u001b[34mSM_INPUT_DIR=/opt/ml/input\u001b[0m\n",
      "\u001b[34mSM_INPUT_CONFIG_DIR=/opt/ml/input/config\u001b[0m\n",
      "\u001b[34mSM_OUTPUT_DIR=/opt/ml/output\u001b[0m\n",
      "\u001b[34mSM_NUM_CPUS=4\u001b[0m\n",
      "\u001b[34mSM_NUM_GPUS=0\u001b[0m\n",
      "\u001b[34mSM_MODEL_DIR=/opt/ml/model\u001b[0m\n",
      "\u001b[34mSM_MODULE_DIR=s3://sagemaker-us-west-2-230755935769/mnist-tensor-plot-2021-03-28-13-14-24-061/source/sourcedir.tar.gz\u001b[0m\n",
      "\u001b[34mSM_TRAINING_ENV={\"additional_framework_parameters\":{},\"channel_input_dirs\":{},\"current_host\":\"algo-1\",\"framework_module\":\"sagemaker_mxnet_container.training:main\",\"hosts\":[\"algo-1\"],\"hyperparameters\":{},\"input_config_dir\":\"/opt/ml/input/config\",\"input_data_config\":{},\"input_dir\":\"/opt/ml/input\",\"is_master\":true,\"job_name\":\"mnist-tensor-plot-2021-03-28-13-14-24-061\",\"log_level\":20,\"master_hostname\":\"algo-1\",\"model_dir\":\"/opt/ml/model\",\"module_dir\":\"s3://sagemaker-us-west-2-230755935769/mnist-tensor-plot-2021-03-28-13-14-24-061/source/sourcedir.tar.gz\",\"module_name\":\"mxnet_gluon_save_all_demo\",\"network_interface_name\":\"eth0\",\"num_cpus\":4,\"num_gpus\":0,\"output_data_dir\":\"/opt/ml/output/data\",\"output_dir\":\"/opt/ml/output\",\"output_intermediate_dir\":\"/opt/ml/output/intermediate\",\"resource_config\":{\"current_host\":\"algo-1\",\"hosts\":[\"algo-1\"],\"network_interface_name\":\"eth0\"},\"user_entry_point\":\"mxnet_gluon_save_all_demo.py\"}\u001b[0m\n",
      "\u001b[34mSM_USER_ARGS=[]\u001b[0m\n",
      "\u001b[34mSM_OUTPUT_INTERMEDIATE_DIR=/opt/ml/output/intermediate\u001b[0m\n",
      "\u001b[34mPYTHONPATH=/opt/ml/code:/usr/local/bin:/usr/local/lib/python36.zip:/usr/local/lib/python3.6:/usr/local/lib/python3.6/lib-dynload:/usr/local/lib/python3.6/site-packages\n",
      "\u001b[0m\n",
      "\u001b[34mInvoking script with the following command:\n",
      "\u001b[0m\n",
      "\u001b[34m/usr/local/bin/python3.6 mxnet_gluon_save_all_demo.py\n",
      "\n",
      "\u001b[0m\n",
      "\u001b[34mDownloading /root/.mxnet/datasets/mnist/train-images-idx3-ubyte.gz from https://apache-mxnet.s3-accelerate.dualstack.amazonaws.com/gluon/dataset/mnist/train-images-idx3-ubyte.gz...\u001b[0m\n",
      "\u001b[34mDownloading /root/.mxnet/datasets/mnist/train-labels-idx1-ubyte.gz from https://apache-mxnet.s3-accelerate.dualstack.amazonaws.com/gluon/dataset/mnist/train-labels-idx1-ubyte.gz...\u001b[0m\n",
      "\u001b[34mDownloading /root/.mxnet/datasets/fashion-mnist/t10k-images-idx3-ubyte.gz from https://apache-mxnet.s3-accelerate.dualstack.amazonaws.com/gluon/dataset/fashion-mnist/t10k-images-idx3-ubyte.gz...\u001b[0m\n",
      "\u001b[34mDownloading /root/.mxnet/datasets/fashion-mnist/t10k-labels-idx1-ubyte.gz from https://apache-mxnet.s3-accelerate.dualstack.amazonaws.com/gluon/dataset/fashion-mnist/t10k-labels-idx1-ubyte.gz...\u001b[0m\n",
      "\u001b[34m[2021-03-28 13:18:06.283 ip-10-0-179-9.us-west-2.compute.internal:16 INFO json_config.py:90] Creating hook from json_config at /opt/ml/input/config/debughookconfig.json.\u001b[0m\n",
      "\u001b[34m[2021-03-28 13:18:06.284 ip-10-0-179-9.us-west-2.compute.internal:16 INFO hook.py:193] tensorboard_dir has not been set for the hook. SMDebug will not be exporting tensorboard summaries.\u001b[0m\n",
      "\u001b[34m[2021-03-28 13:18:06.284 ip-10-0-179-9.us-west-2.compute.internal:16 INFO hook.py:238] Saving to /opt/ml/output/tensors\u001b[0m\n",
      "\u001b[34m[2021-03-28 13:18:06.284 ip-10-0-179-9.us-west-2.compute.internal:16 INFO state_store.py:67] The checkpoint config file /opt/ml/input/config/checkpointconfig.json does not exist.\u001b[0m\n",
      "\u001b[34m[2021-03-28 13:18:06.319 ip-10-0-179-9.us-west-2.compute.internal:16 INFO hook.py:398] Monitoring the collections: losses, all_tensors\u001b[0m\n",
      "\u001b[34m[2021-03-28 13:18:06.320 ip-10-0-179-9.us-west-2.compute.internal:16 INFO hook.py:461] Hook is writing from the hook with pid: 16\n",
      "\u001b[0m\n",
      "\u001b[34m[2021-03-28 13:18:06.322 ip-10-0-179-9.us-west-2.compute.internal:16 WARNING hook.py:978] var is not NDArray or list or tuple of NDArrays, module_name:conv0_relu Symbol\u001b[0m\n",
      "\u001b[34m[2021-03-28 13:18:06.322 ip-10-0-179-9.us-west-2.compute.internal:16 WARNING hook.py:978] var is not NDArray or list or tuple of NDArrays, module_name:conv0_relu Symbol\u001b[0m\n",
      "\u001b[34m[2021-03-28 13:18:06.468 ip-10-0-179-9.us-west-2.compute.internal:16 WARNING hook.py:978] var is not NDArray or list or tuple of NDArrays, module_name:conv1_relu Symbol\u001b[0m\n",
      "\u001b[34m[2021-03-28 13:18:06.468 ip-10-0-179-9.us-west-2.compute.internal:16 WARNING hook.py:978] var is not NDArray or list or tuple of NDArrays, module_name:conv1_relu Symbol\u001b[0m\n",
      "\u001b[34m[2021-03-28 13:18:06.517 ip-10-0-179-9.us-west-2.compute.internal:16 WARNING hook.py:978] var is not NDArray or list or tuple of NDArrays, module_name:dense0_relu Symbol\u001b[0m\n",
      "\u001b[34m[2021-03-28 13:18:06.517 ip-10-0-179-9.us-west-2.compute.internal:16 WARNING hook.py:978] var is not NDArray or list or tuple of NDArrays, module_name:dense0_relu Symbol\u001b[0m\n",
      "\u001b[34m[2021-03-28 13:18:06.533 ip-10-0-179-9.us-west-2.compute.internal:16 WARNING hook.py:978] var is not NDArray or list or tuple of NDArrays, module_name:dense1_relu Symbol\u001b[0m\n",
      "\u001b[34m[2021-03-28 13:18:06.533 ip-10-0-179-9.us-west-2.compute.internal:16 WARNING hook.py:978] var is not NDArray or list or tuple of NDArrays, module_name:dense1_relu Symbol\u001b[0m\n",
      "\u001b[34m[2021-03-28 13:18:06.546 ip-10-0-179-9.us-west-2.compute.internal:16 INFO hook.py:236] Registering hook for block softmaxcrossentropyloss0\u001b[0m\n"
     ]
    },
    {
     "name": "stdout",
     "output_type": "stream",
     "text": [
      "\n",
      "2021-03-28 13:18:24 Uploading - Uploading generated training model\u001b[34mEpoch 0: loss 0.418, train acc 0.871, test acc 0.060, in 18.6 sec\u001b[0m\n",
      "\u001b[34m2021-03-28 13:18:23,797 sagemaker-training-toolkit INFO     Reporting training SUCCESS\u001b[0m\n",
      "\n",
      "2021-03-28 13:18:49 Completed - Training job completed\n",
      "Training seconds: 67\n",
      "Billable seconds: 67\n"
     ]
    }
   ],
   "source": [
    "estimator.fit()"
   ]
  },
  {
   "cell_type": "markdown",
   "metadata": {},
   "source": [
    "### Get S3 location of tensors"
   ]
  },
  {
   "cell_type": "markdown",
   "metadata": {},
   "source": [
    "Now we can retrieve the S3 location of the tensors:"
   ]
  },
  {
   "cell_type": "code",
   "execution_count": 3,
   "metadata": {},
   "outputs": [
    {
     "name": "stdout",
     "output_type": "stream",
     "text": [
      "S3 location of tensors is:  s3://sagemaker-us-west-2-230755935769/mnist-tensor-plot/mnist-tensor-plot-2021-03-28-13-14-24-061/debug-output\n"
     ]
    }
   ],
   "source": [
    "tensors_path = estimator.latest_job_debugger_artifacts_path()\n",
    "print('S3 location of tensors is: ', tensors_path)"
   ]
  },
  {
   "cell_type": "code",
   "execution_count": 9,
   "metadata": {},
   "outputs": [
    {
     "name": "stdout",
     "output_type": "stream",
     "text": [
      "[2021-03-28 13:22:10.355 ip-172-16-51-26:19614 INFO utils.py:27] RULE_JOB_STOP_SIGNAL_FILENAME: None\n",
      "[2021-03-28 13:22:10.368 ip-172-16-51-26:19614 INFO s3_trial.py:42] Loading trial debug-output at path s3://sagemaker-us-west-2-230755935769/mnist-tensor-plot/mnist-tensor-plot-2021-03-28-13-14-24-061/debug-output\n"
     ]
    }
   ],
   "source": [
    "import smdebug\n",
    "from smdebug.trials import create_trial\n",
    "trial = create_trial(tensors_path)"
   ]
  },
  {
   "cell_type": "code",
   "execution_count": 10,
   "metadata": {},
   "outputs": [
    {
     "name": "stdout",
     "output_type": "stream",
     "text": [
      "[2021-03-28 13:22:15.936 ip-172-16-51-26:19614 INFO trial.py:198] Training has ended, will refresh one final time in 1 sec.\n",
      "[2021-03-28 13:22:16.957 ip-172-16-51-26:19614 INFO trial.py:210] Loaded all steps\n"
     ]
    },
    {
     "data": {
      "text/plain": [
       "['conv0_bias',\n",
       " 'conv0_input_0',\n",
       " 'conv0_output_0',\n",
       " 'conv0_relu_input_0',\n",
       " 'conv0_relu_output_0',\n",
       " 'conv0_weight',\n",
       " 'conv1_bias',\n",
       " 'conv1_input_0',\n",
       " 'conv1_output_0',\n",
       " 'conv1_relu_input_0',\n",
       " 'conv1_relu_output_0',\n",
       " 'conv1_weight',\n",
       " 'dense0_bias',\n",
       " 'dense0_input_0',\n",
       " 'dense0_output_0',\n",
       " 'dense0_relu_input_0',\n",
       " 'dense0_relu_output_0',\n",
       " 'dense0_weight',\n",
       " 'dense1_bias',\n",
       " 'dense1_input_0',\n",
       " 'dense1_output_0',\n",
       " 'dense1_relu_input_0',\n",
       " 'dense1_relu_output_0',\n",
       " 'dense1_weight',\n",
       " 'dense2_bias',\n",
       " 'dense2_input_0',\n",
       " 'dense2_output_0',\n",
       " 'dense2_weight',\n",
       " 'flatten0_input_0',\n",
       " 'flatten0_output_0',\n",
       " 'gradient/conv0_bias',\n",
       " 'gradient/conv0_weight',\n",
       " 'gradient/conv1_bias',\n",
       " 'gradient/conv1_weight',\n",
       " 'gradient/dense0_bias',\n",
       " 'gradient/dense0_weight',\n",
       " 'gradient/dense1_bias',\n",
       " 'gradient/dense1_weight',\n",
       " 'gradient/dense2_bias',\n",
       " 'gradient/dense2_weight',\n",
       " 'hybridsequential0_input_0',\n",
       " 'hybridsequential0_output_0',\n",
       " 'pool0_input_0',\n",
       " 'pool0_output_0',\n",
       " 'pool1_input_0',\n",
       " 'pool1_output_0',\n",
       " 'softmaxcrossentropyloss0_input_0',\n",
       " 'softmaxcrossentropyloss0_input_1',\n",
       " 'softmaxcrossentropyloss0_output_0']"
      ]
     },
     "execution_count": 10,
     "metadata": {},
     "output_type": "execute_result"
    }
   ],
   "source": [
    "trial.tensor_names()"
   ]
  },
  {
   "cell_type": "markdown",
   "metadata": {},
   "source": [
    "### Download tensors from S3\n",
    "\n",
    "Next we download the tensors from S3, so that we can visualize them in the notebook."
   ]
  },
  {
   "cell_type": "code",
   "execution_count": 11,
   "metadata": {},
   "outputs": [
    {
     "name": "stdout",
     "output_type": "stream",
     "text": [
      "Downloaded tensors into folder:  debug-output\n"
     ]
    }
   ],
   "source": [
    "folder_name = tensors_path.split(\"/\")[-1]\n",
    "os.system(\"aws s3 cp --recursive \" + tensors_path + \" \" + folder_name)\n",
    "print('Downloaded tensors into folder: ', folder_name)"
   ]
  },
  {
   "cell_type": "markdown",
   "metadata": {},
   "source": [
    "### Visualize\n",
    "The main purpose of this class (TensorPlot) is to visualise the tensors in your network. This could be to determine dead or saturated activations, or the features maps the network.\n",
    "\n",
    "To use this class (TensorPlot), you will need to supply the argument regex with the tensors you are interested in. e.g., if you are interested in activation outputs, then you need to supply the following regex .*relu|.*tanh|.*sigmoid.\n",
    "\n",
    "Another important argument is the `sample_batch_id`, which allows you to specify the index of the batch size to display. For example, given an input tensor of size (batch_size, channel, width, height), `sample_batch_id = n` will display (n, channel, width, height). If you set sample_batch_id = -1 then the tensors will be summed over the batch dimension (i.e., `np.sum(tensor, axis=0)`). If batch_sample_id is None then each sample will be plotted as separate layer in the figure.\n",
    "\n",
    "Here are some interesting use cases:\n",
    "\n",
    "1) If you want to determine dead or saturated activations for instance ReLus that are always outputting zero, then you would want to sum the batch dimension (sample_batch_id=-1). The sum gives an indication which parts of the network are inactive across a batch.\n",
    "\n",
    "2) If you are interested in the feature maps for the first image in the batch, then you should provide batch_sample_id=0. This can be helpful if your model is not performing well for certain set of samples and you want to understand which activations are leading to misprediction.\n",
    "\n",
    "An example visualization of layer outputs:\n",
    "![](./images/tensorplot.gif)\n",
    "\n",
    "\n",
    "`TensorPlot` normalizes tensor values to the range 0 to 1 which means colorscales are the same across layers. Blue indicates value close to 0 and yellow indicates values close to 1. This class has been designed to plot convolutional networks that take 2D images as input and predict classes or produce output images. You can use this  for other types of networks like RNNs, but you may have to adjust the class as it is currently neglecting tensors that have more than 4 dimensions.\n",
    "\n",
    "Let's plot Relu output activations for the given MNIST training example."
   ]
  },
  {
   "cell_type": "code",
   "execution_count": 12,
   "metadata": {},
   "outputs": [
    {
     "data": {
      "text/html": [
       "        <script type=\"text/javascript\">\n",
       "        window.PlotlyConfig = {MathJaxConfig: 'local'};\n",
       "        if (window.MathJax) {MathJax.Hub.Config({SVG: {font: \"STIX-Web\"}});}\n",
       "        if (typeof require !== 'undefined') {\n",
       "        require.undef(\"plotly\");\n",
       "        requirejs.config({\n",
       "            paths: {\n",
       "                'plotly': ['https://cdn.plot.ly/plotly-latest.min']\n",
       "            }\n",
       "        });\n",
       "        require(['plotly'], function(Plotly) {\n",
       "            window._Plotly = Plotly;\n",
       "        });\n",
       "        }\n",
       "        </script>\n",
       "        "
      ]
     },
     "metadata": {},
     "output_type": "display_data"
    },
    {
     "name": "stdout",
     "output_type": "stream",
     "text": [
      "[2021-03-28 13:24:40.353 ip-172-16-51-26:19614 INFO local_trial.py:35] Loading trial debug-output at path debug-output\n",
      "[2021-03-28 13:24:40.358 ip-172-16-51-26:19614 INFO trial.py:198] Training has ended, will refresh one final time in 1 sec.\n",
      "[2021-03-28 13:24:41.360 ip-172-16-51-26:19614 INFO trial.py:210] Loaded all steps\n"
     ]
    }
   ],
   "source": [
    "import tensor_plot \n",
    "\n",
    "visualization = tensor_plot.TensorPlot(\n",
    "#     regex=\".*relu_output\", \n",
    "      regex=\".*weight\", \n",
    "    path=folder_name,\n",
    "    steps=10,  \n",
    "    batch_sample_id=0,\n",
    "    color_channel = 1,\n",
    "    title=\"Relu outputs\",\n",
    "    label=\".*sequential0_input_0\",\n",
    "    prediction=\".*sequential0_output_0\"\n",
    ")"
   ]
  },
  {
   "cell_type": "markdown",
   "metadata": {},
   "source": [
    "If we plot too many layers, it can crash the notebook. If you encounter performance or out of memory issues, then either try to reduce the layers to plot by changing the `regex` or run this Notebook in JupyterLab instead of Jupyter. \n",
    "\n",
    "In the below cell we vizualize outputs of all layers, including final classification. Please note that because training job ran only for 1 epoch classification accuracy is not high."
   ]
  },
  {
   "cell_type": "code",
   "execution_count": 13,
   "metadata": {},
   "outputs": [
    {
     "data": {
      "text/html": [
       "<iframe\n",
       "    scrolling=\"no\"\n",
       "    width=\"1020px\"\n",
       "    height=\"820\"\n",
       "    src=\"iframe_figures/figure_13.html\"\n",
       "    frameborder=\"0\"\n",
       "    allowfullscreen\n",
       "></iframe>\n"
      ]
     },
     "metadata": {},
     "output_type": "display_data"
    }
   ],
   "source": [
    "visualization.fig.show(renderer=\"iframe\")"
   ]
  },
  {
   "cell_type": "markdown",
   "metadata": {},
   "source": [
    "For additional example of working with debugging tensors and visualizing them in real time please feel free to try it out at [MXNet realtime analysis](../mxnet_realtime_analysis/mxnet-realtime-analysis.ipynb) example."
   ]
  }
 ],
 "metadata": {
  "hide_input": false,
  "kernelspec": {
   "display_name": "conda_mxnet_p36",
   "language": "python",
   "name": "conda_mxnet_p36"
  },
  "language_info": {
   "codemirror_mode": {
    "name": "ipython",
    "version": 3
   },
   "file_extension": ".py",
   "mimetype": "text/x-python",
   "name": "python",
   "nbconvert_exporter": "python",
   "pygments_lexer": "ipython3",
   "version": "3.6.13"
  }
 },
 "nbformat": 4,
 "nbformat_minor": 4
}
