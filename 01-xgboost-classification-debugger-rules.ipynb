{
 "cells": [
  {
   "cell_type": "markdown",
   "metadata": {},
   "source": [
    "# Debugging XGBoost Training Jobs with Amazon SageMaker Debugger Using Rules\n",
    "\n",
    "This notebook was created and tested on an ml.m5.4xlarge notebook instance.\n",
    "\n",
    "## Overview\n",
    "\n",
    "Amazon SageMaker Debugger is a new capability of Amazon SageMaker that allows debugging machine learning training. \n",
    "Amazon SageMaker Debugger helps you to monitor your training in near real time using rules and would provide you alerts, once it has detected inconsistency in training. \n",
    "\n",
    "Using Amazon SageMaker Debugger is a two step process: Saving tensors and Analysis.\n",
    "Let's look at each one of them closely.\n",
    "\n",
    "### Saving tensors\n",
    "\n",
    "In deep learning algorithms, tensors define the state of the training job at any particular instant in its lifecycle.\n",
    "Amazon SageMaker Debugger exposes a library which allows you to capture these tensors and save them for analysis.\n",
    "Although XGBoost is not a deep learning algorithm, Amazon SageMaker Debugger is highly customizable and can help provide interpretability by saving insightful metrics, such as performance metrics or feature importances, at different frequencies.\n",
    "Refer to [documentation](https://github.com/awslabs/sagemaker-debugger/blob/master/docs/xgboost.md) for details on how to save the metrics you want.\n",
    "\n",
    "\n",
    "### Analysis\n",
    "\n",
    "After the tensors are saved, perform automatic analysis by running debugging ***Rules***.\n",
    "On a very broad level, a rule is Python code used to detect certain conditions during training.\n",
    "Some of the conditions that a data scientist training an algorithm may care about are monitoring for gradients getting too large or too small, detecting overfitting, and so on.\n",
    "Amazon SageMaker Debugger comes pre-packaged with certain rules that can be invoked on Amazon SageMaker. Users can also write their own rules using the Amazon SageMaker Debugger APIs. \n",
    "For more information about automatic analysis using a rule, see the [rules documentation](https://github.com/awslabs/sagemaker-debugger/blob/master/docs/analysis.md)."
   ]
  },
  {
   "cell_type": "code",
   "execution_count": null,
   "metadata": {},
   "outputs": [],
   "source": [
    "! python -m pip install smdebug"
   ]
  },
  {
   "cell_type": "code",
   "execution_count": null,
   "metadata": {},
   "outputs": [],
   "source": [
    "\n",
    "import boto3\n",
    "import sagemaker"
   ]
  },
  {
   "cell_type": "markdown",
   "metadata": {},
   "source": [
    "Amazon SageMaker Debugger is available in Amazon SageMaker XGBoost container version 0.90-2 or later. If you want to use XGBoost with Amazon SageMaker Debugger, you have to specify `repo_version='0.90-2'` in the `get_image_uri` function."
   ]
  },
  {
   "cell_type": "code",
   "execution_count": null,
   "metadata": {},
   "outputs": [],
   "source": [
    "from sagemaker.amazon.amazon_estimator import get_image_uri\n",
    "\n",
    "# Below changes the Region to be one where this notebook is running\n",
    "region = boto3.Session().region_name\n",
    "\n",
    "container = get_image_uri(region, \"xgboost\", repo_version=\"1.2-1\")"
   ]
  },
  {
   "cell_type": "code",
   "execution_count": null,
   "metadata": {},
   "outputs": [],
   "source": [
    "container"
   ]
  },
  {
   "cell_type": "markdown",
   "metadata": {},
   "source": [
    "## Training XGBoost models in Amazon SageMaker with Amazon SageMaker Debugger\n",
    "\n",
    "Now train an XGBoost model with Amazon SageMaker Debugger enabled and monitor the training jobs. This is done using the Amazon SageMaker Estimator API. While the training job is running, use Amazon SageMaker Debugger API to access saved tensors in real time and visualize them. You can rely on Amazon SageMaker Debugger to take care of downloading a fresh set of tensors every time you query for them.\n",
    "\n",
    "This example is adapted from [XGBoost for Regression](https://github.com/awslabs/amazon-sagemaker-examples/tree/master/introduction_to_amazon_algorithms/xgboost_abalone). Refer to [XGBoost for Regression](https://github.com/awslabs/amazon-sagemaker-examples/tree/master/introduction_to_amazon_algorithms/xgboost_abalone) for an example of using classification from Amazon SageMaker's implementation of [XGBoost](https://github.com/dmlc/xgboost).\n",
    "\n",
    "### Download data\n",
    "Data Source: [https://archive.ics.uci.edu/ml/machine-learning-databases/adult/](https://archive.ics.uci.edu/ml/machine-learning-databases/adult/)\n",
    "\n",
    "Let's __download__ the data and save it in the local folder with the name adult.data and adult.test from UCI repository$^{[2]}$.\n",
    "\n",
    "$^{[2]}$Dua Dheeru, and Efi Karra Taniskidou. \"[UCI Machine Learning Repository](http://archive.ics.uci.edu/ml)\". Irvine, CA: University of California, School of Information and Computer Science (2017)."
   ]
  },
  {
   "cell_type": "code",
   "execution_count": null,
   "metadata": {},
   "outputs": [],
   "source": [
    "from data_utils import upload_to_s3\n",
    "\n",
    "bucket = sagemaker.Session().default_bucket()\n",
    "prefix = \"DEMO-smdebug-xgboost-adult.data\""
   ]
  },
  {
   "cell_type": "code",
   "execution_count": null,
   "metadata": {},
   "outputs": [],
   "source": [
    "import os \n",
    "import urllib \n",
    "raw_train_file = \"adult.data\"\n",
    "raw_validation_file = \"adult.test\"\n",
    "adult_columns = [\"Age\", \"Workclass\", \"fnlwgt\", \"Education\", \"Education-Num\", \"Marital Status\",\n",
    "                 \"Occupation\", \"Relationship\", \"Ethnic group\", \"Sex\", \"Capital Gain\", \"Capital Loss\",\n",
    "                 \"Hours per week\", \"Country\", \"Target\"]\n",
    "if not os.path.isfile(raw_train_file):\n",
    "    urllib.request.urlretrieve('https://archive.ics.uci.edu/ml/machine-learning-databases/adult/adult.data',\n",
    "                              raw_train_file)\n",
    "    print('adult.data saved!')\n",
    "else:\n",
    "    print('adult.data already on disk.')\n",
    "\n",
    "if not os.path.isfile(raw_validation_file):\n",
    "    urllib.request.urlretrieve('https://archive.ics.uci.edu/ml/machine-learning-databases/adult/adult.test',\n",
    "                              raw_validation_file)\n",
    "    print('adult.test saved!')\n",
    "else:\n",
    "    print('adult.test already on disk.')    "
   ]
  },
  {
   "cell_type": "markdown",
   "metadata": {},
   "source": [
    "### Loading the data: Adult Dataset\n",
    "From the UCI repository of machine learning datasets, this database contains 14 features concerning demographic characteristics of 45,222 rows (32,561 for training and 12,661 for testing). The task is to predict whether a person has a yearly income that is more or less than $50,000.\n",
    "\n",
    "Here are the features and their possible values:\n",
    "1. **Age**: continuous.\n",
    "1. **Workclass**: Private, Self-emp-not-inc, Self-emp-inc, Federal-gov, Local-gov, State-gov, Without-pay, Never-worked.\n",
    "1. **Fnlwgt**: continuous (the number of people the census takers believe that observation represents).\n",
    "1. **Education**: Bachelors, Some-college, 11th, HS-grad, Prof-school, Assoc-acdm, Assoc-voc, 9th, 7th-8th, 12th, Masters, 1st-4th, 10th, Doctorate, 5th-6th, Preschool.\n",
    "1. **Education-num**: continuous.\n",
    "1. **Marital-status**: Married-civ-spouse, Divorced, Never-married, Separated, Widowed, Married-spouse-absent, Married-AF-spouse.\n",
    "1. **Occupation**: Tech-support, Craft-repair, Other-service, Sales, Exec-managerial, Prof-specialty, Handlers-cleaners, Machine-op-inspct, Adm-clerical, Farming-fishing, Transport-moving, Priv-house-serv, Protective-serv, Armed-Forces.\n",
    "1. **Relationship**: Wife, Own-child, Husband, Not-in-family, Other-relative, Unmarried.\n",
    "1. **Ethnic group**: White, Asian-Pac-Islander, Amer-Indian-Eskimo, Other, Black.\n",
    "1. **Sex**: Female, Male.\n",
    "    * **Note**: this data is extracted from the 1994 Census and enforces a binary option on Sex\n",
    "1. **Capital-gain**: continuous.\n",
    "1. **Capital-loss**: continuous.\n",
    "1. **Hours-per-week**: continuous.\n",
    "1. **Native-country**: United-States, Cambodia, England, Puerto-Rico, Canada, Germany, Outlying-US(Guam-USVI-etc), India, Japan, Greece, South, China, Cuba, Iran, Honduras, Philippines, Italy, Poland, Jamaica, Vietnam, Mexico, Portugal, Ireland, France, Dominican-Republic, Laos, Ecuador, Taiwan, Haiti, Columbia, Hungary, Guatemala, Nicaragua, Scotland, Thailand, Yugoslavia, El-Salvador, Trinadad&Tobago, Peru, Hong, Holand-Netherlands.\n",
    "\n",
    "Next we specify our binary prediction task:  \n",
    "15. **Target**: <=50,000, >$50,000."
   ]
  },
  {
   "cell_type": "code",
   "execution_count": null,
   "metadata": {},
   "outputs": [],
   "source": [
    "#one or more space \n",
    "import pandas as pd \n",
    "training_data = pd.read_csv(raw_train_file,\n",
    "                             names=adult_columns,\n",
    "                             sep=r'\\s*,\\s*',\n",
    "                             engine='python',\n",
    "                             na_values=\"?\").dropna()\n",
    "\n",
    "testing_data = pd.read_csv(raw_validation_file,\n",
    "                            names=adult_columns,\n",
    "                            sep=r'\\s*,\\s*',\n",
    "                            engine='python',\n",
    "                            na_values=\"?\",\n",
    "                            skiprows=1).dropna()\n",
    "\n",
    "training_data.head()"
   ]
  },
  {
   "cell_type": "code",
   "execution_count": null,
   "metadata": {},
   "outputs": [],
   "source": [
    "from sklearn import preprocessing\n",
    "import numpy as np \n",
    "train_file = \"train_data.csv\"\n",
    "validation_file = \"test_features.csv\"\n",
    "\n",
    "def number_encode_features(df):\n",
    "    result = df.copy()\n",
    "    encoders = {}\n",
    "    for column in result.columns:\n",
    "        if result.dtypes[column] == np.object:\n",
    "            encoders[column] = preprocessing.LabelEncoder()\n",
    "            #  print('Column:', column, result[column])\n",
    "            result[column] = encoders[column].fit_transform(result[column].fillna('None'))\n",
    "    return result, encoders\n",
    "\n",
    "training_data = pd.concat([training_data['Target'], training_data.drop(['Target'], axis=1)], axis=1)\n",
    "training_data, _ = number_encode_features(training_data)\n",
    "training_data.to_csv(train_file, index=False, header=False)\n",
    "\n",
    "testing_data = pd.concat([testing_data['Target'], testing_data.drop(['Target'], axis=1)], axis=1)\n",
    "test_features, _ = number_encode_features(testing_data)\n",
    "\n",
    "# test_features = testing_data.drop(['Target'], axis = 1)\n",
    "# test_target = testing_data['Target']\n",
    "headers = test_features.columns\n",
    "test_features.to_csv(validation_file, index=False, header=False)"
   ]
  },
  {
   "cell_type": "code",
   "execution_count": null,
   "metadata": {},
   "outputs": [],
   "source": [
    "from sagemaker.s3 import S3Uploader\n",
    "from sagemaker.inputs import TrainingInput\n",
    "\n",
    "train_uri = S3Uploader.upload(train_file, 's3://{}/{}'.format(bucket, prefix))\n",
    "train_input = TrainingInput(train_uri, content_type='csv')\n",
    "test_uri = S3Uploader.upload(validation_file, 's3://{}/{}'.format(bucket, prefix))"
   ]
  },
  {
   "cell_type": "code",
   "execution_count": null,
   "metadata": {},
   "outputs": [],
   "source": [
    "from sagemaker import get_execution_role\n",
    "\n",
    "role = get_execution_role()\n",
    "base_job_name = \"demo-smdebug-xgboost-classification\"\n",
    "bucket_path = 's3://{}/{}'.format(bucket, base_job_name)\n",
    "\n",
    "hyperparameters={\n",
    "    \"max_depth\": \"10\",\n",
    "    \"eta\": \"0.7\",\n",
    "    \"gamma\": \"4\",\n",
    "    \"min_child_weight\": \"6\",\n",
    "    \"subsample\": \"0.7\",\n",
    "    \"objective\": \"binary:logistic\",\n",
    "    \"num_round\": \"80\",\n",
    "    \"tree_method\": \"gpu_hist\", #?\n",
    "}\n",
    "\n",
    "save_interval = 5\n",
    "\n",
    "base_job_name = \"demo-smdebug-xgboost-regression\""
   ]
  },
  {
   "cell_type": "markdown",
   "metadata": {},
   "source": [
    "### Enabling Debugger in Estimator object\n",
    "\n",
    "\n",
    "#### DebuggerHookConfig\n",
    "\n",
    "Enabling Amazon SageMaker Debugger in training job can be accomplished by adding its configuration into Estimator object constructor:\n",
    "\n",
    "```python\n",
    "from sagemaker.debugger import DebuggerHookConfig, CollectionConfig\n",
    "\n",
    "estimator = Estimator(\n",
    "    ...,\n",
    "    debugger_hook_config = DebuggerHookConfig(\n",
    "        s3_output_path=\"s3://{bucket_name}/{location_in_bucket}\",  # Required\n",
    "        collection_configs=[\n",
    "            CollectionConfig(\n",
    "                name=\"metrics\",\n",
    "                parameters={\n",
    "                    \"save_interval\": \"10\"\n",
    "                }\n",
    "            )\n",
    "        ]\n",
    "    )\n",
    ")\n",
    "```\n",
    "Here, the `DebuggerHookConfig` object instructs `Estimator` what data we are interested in.\n",
    "Two parameters are provided in the example:\n",
    "\n",
    "- `s3_output_path`: it points to S3 bucket/path where we intend to store our debugging tensors.\n",
    "  Amount of data saved depends on multiple factors, major ones are: training job / data set / model / frequency of saving tensors.\n",
    "  This bucket should be in your AWS account, and you should have full access control over it.\n",
    "  **Important Note**: this s3 bucket should be originally created in the same region where your training job will be running, otherwise you might run into problems with cross region access.\n",
    "\n",
    "- `collection_configs`: it enumerates named collections of tensors we want to save.\n",
    "  Collections are a convinient way to organize relevant tensors under same umbrella to make it easy to navigate them during analysis.\n",
    "  In this particular example, you are instructing Amazon SageMaker Debugger that you are interested in a single collection named `metrics`.\n",
    "  We also instructed Amazon SageMaker Debugger to save metrics every 10 iteration.\n",
    "  See [Collection](https://github.com/awslabs/sagemaker-debugger/blob/master/docs/api.md#collection) documentation for all parameters that are supported by Collections and DebuggerConfig documentation for more details about all parameters DebuggerConfig supports.\n",
    "  \n",
    "#### Rules\n",
    "\n",
    "Enabling Rules in training job can be accomplished by adding the `rules` configuration into Estimator object constructor.\n",
    "\n",
    "- `rules`: This new parameter will accept a list of rules you wish to evaluate against the tensors output by this training job.\n",
    "  For rules, Amazon SageMaker Debugger supports two types:\n",
    "  - SageMaker Rules: These are rules specially curated by the data science and engineering teams in Amazon SageMaker which you can opt to evaluate against your training job.\n",
    "  - Custom Rules: You can optionally choose to write your own rule as a Python source file and have it evaluated against your training job.\n",
    "    To provide Amazon SageMaker Debugger to evaluate this rule, you would have to provide the S3 location of the rule source and the evaluator image.\n",
    "\n",
    "In this example, you will use a Amazon SageMaker's LossNotDecreasing rule, which helps you identify if you are running into a situation where the training loss is not going down.\n",
    "\n",
    "```python\n",
    "from sagemaker.debugger import rule_configs, Rule\n",
    "\n",
    "estimator = Estimator(\n",
    "    ...,\n",
    "    rules=[\n",
    "        Rule.sagemaker(\n",
    "            rule_configs.loss_not_decreasing(),\n",
    "            rule_parameters={\n",
    "                \"collection_names\": \"metrics\",\n",
    "                \"num_steps\": \"10\",\n",
    "            },\n",
    "        ),\n",
    "    ],\n",
    ")\n",
    "```\n",
    "\n",
    "- `rule_parameters`: In this parameter, you provide the runtime values of the parameter in your constructor.\n",
    "  You can still choose to pass in other values which may be necessary for your rule to be evaluated.\n",
    "  In this example, you will use Amazon SageMaker's LossNotDecreasing rule to monitor the `metircs` collection.\n",
    "  The rule will alert you if the tensors in `metrics` has not decreased for more than 10 steps."
   ]
  },
  {
   "cell_type": "code",
   "execution_count": null,
   "metadata": {},
   "outputs": [],
   "source": [
    "from sagemaker.debugger import rule_configs, Rule, DebuggerHookConfig, CollectionConfig\n",
    "from sagemaker.estimator import Estimator\n",
    "\n",
    "algorithm_mode_default_estimator = Estimator(\n",
    "    role=role,\n",
    "    base_job_name=base_job_name,\n",
    "    train_instance_count=1,\n",
    "#     train_instance_type='ml.m5.xlarge',\n",
    "    train_instance_type='ml.p2.xlarge',\n",
    "    image_uri=container,\n",
    "    hyperparameters=hyperparameters,\n",
    "    train_max_run=1800,\n",
    "\n",
    "    debugger_hook_config=DebuggerHookConfig(\n",
    "        s3_output_path=bucket_path,  # Required\n",
    "        collection_configs=[\n",
    "            CollectionConfig(\n",
    "                name=\"metrics\",\n",
    "                parameters={\n",
    "                    \"save_interval\": str(save_interval)\n",
    "                }\n",
    "            ),\n",
    "            CollectionConfig(\n",
    "                name=\"feature_importance\",\n",
    "                parameters={\n",
    "                    \"save_interval\": str(save_interval)\n",
    "                }\n",
    "            ),\n",
    "            CollectionConfig(\n",
    "                name=\"average_shap\",\n",
    "                parameters={\n",
    "                    \"save_interval\": str(save_interval)\n",
    "                }\n",
    "            ),\n",
    "        ],\n",
    "    ),\n",
    "\n",
    "    rules=[\n",
    "        Rule.sagemaker(rule_configs.create_xgboost_report()),\n",
    "        Rule.sagemaker(rule_configs.loss_not_decreasing()),\n",
    "        Rule.sagemaker(\n",
    "            base_config=rule_configs.overfit(),\n",
    "            rule_parameters={\n",
    "                \"patience_train\": \"3\",\n",
    "                \"patience_validation\": \"5\",\n",
    "                \"delta\": \"0.05\"\n",
    "            },\n",
    "        )   \n",
    "    ],\n",
    ")"
   ]
  },
  {
   "cell_type": "markdown",
   "metadata": {},
   "source": [
    "With the next step, start a training job by using the Estimator object you created above. This job is started in an asynchronous, non-blocking way. This means that control is passed back to the notebook and further commands can be run while the training job is progressing."
   ]
  },
  {
   "cell_type": "code",
   "execution_count": null,
   "metadata": {},
   "outputs": [],
   "source": [
    "from sagemaker.session import s3_input\n",
    "\n",
    "train_s3_input = s3_input(train_uri, content_type=\"csv\")\n",
    "validation_s3_input = s3_input(test_uri, content_type=\"csv\")\n",
    "algorithm_mode_default_estimator.fit(\n",
    "    {\"train\": train_s3_input, \"validation\": validation_s3_input},\n",
    "    wait=True\n",
    ")"
   ]
  },
  {
   "cell_type": "code",
   "execution_count": null,
   "metadata": {},
   "outputs": [],
   "source": [
    "from datetime import datetime\n",
    "endpoint_name = f\"DEMO-xgb-income-model-{datetime.utcnow():%Y-%m-%d-%H%M}\"\n",
    "print(\"Endpoint name: \", endpoint_name)\n",
    "endpoint_instance_count = 1\n",
    "endpoint_instance_type = \"ml.m5.large\"\n",
    "s3_key = f\"s3://{bucket}/{prefix}\"\n",
    "s3_capture_upload_path = f'{s3_key}/datacapture'"
   ]
  },
  {
   "cell_type": "code",
   "execution_count": null,
   "metadata": {},
   "outputs": [],
   "source": [
    "model_name = 'DEMO-clarify-model'\n",
    "model = algorithm_mode_default_estimator.create_model(name=model_name)\n",
    "container_def = model.prepare_container_def()\n",
    "\n",
    "\n",
    "model = algorithm_mode_default_estimator.create_model(name=model_name)\n",
    "container_def = model.prepare_container_def()\n",
    "\n",
    "model.deploy(\n",
    "    initial_instance_count=endpoint_instance_count,\n",
    "    instance_type=endpoint_instance_type,\n",
    "    endpoint_name=endpoint_name\n",
    ")"
   ]
  },
  {
   "cell_type": "code",
   "execution_count": null,
   "metadata": {},
   "outputs": [],
   "source": [
    "from sagemaker import Session\n",
    "session = Session()\n",
    "def get_predictions(features): \n",
    "    payload = ','.join(features.astype('str').tolist()) \n",
    "    print(payload)\n",
    "    sagemaker_runtime_client = session.sagemaker_runtime_client\n",
    "    response = sagemaker_runtime_client.invoke_endpoint(\n",
    "                EndpointName=endpoint_name,\n",
    "                Body=payload,\n",
    "                ContentType='text/csv',\n",
    "            )\n",
    "    prediction = float(response[\"Body\"].read().decode(\"utf-8\"))\n",
    "    return prediction"
   ]
  },
  {
   "cell_type": "code",
   "execution_count": null,
   "metadata": {},
   "outputs": [],
   "source": [
    "row=0\n",
    "logit_v = get_predictions(training_data.iloc[row,1:])\n",
    "print(logit_v)"
   ]
  },
  {
   "cell_type": "code",
   "execution_count": null,
   "metadata": {},
   "outputs": [],
   "source": [
    "%store train_uri\n",
    "%store test_uri\n",
    "%store model_name\n",
    "%store container_def \n",
    "%store train_file \n",
    "%store validation_file\n",
    "%store headers\n",
    "%store training_data\n",
    "%store test_features\n",
    "%store endpoint_name "
   ]
  },
  {
   "cell_type": "markdown",
   "metadata": {},
   "source": [
    "### Result\n",
    "\n",
    "As a result of the above command, Amazon SageMaker starts one training job and one rule job for you. The first one is the job that produces the tensors to be analyzed. The second one analyzes the tensors to check if `train-rmse` and `validation-rmse` are not decreasing at any point during training.\n",
    "\n",
    "Check the status of the training job below.\n",
    "After your training job is started, Amazon SageMaker starts a rule-execution job to run the LossNotDecreasing rule.\n",
    "\n",
    "**Note that the next cell blocks until the rule execution job ends. You can stop it at any point to proceed to the rest of the notebook. Once it says Rule Evaluation Status is Started, and shows the `RuleEvaluationJobArn`, you can look at the status of the rule being monitored.**"
   ]
  },
  {
   "cell_type": "code",
   "execution_count": null,
   "metadata": {},
   "outputs": [],
   "source": [
    "import time\n",
    "\n",
    "for _ in range(360):\n",
    "    job_name = algorithm_mode_default_estimator.latest_training_job.name\n",
    "    client = algorithm_mode_default_estimator.sagemaker_session.sagemaker_client\n",
    "    description = client.describe_training_job(TrainingJobName=job_name)\n",
    "    training_job_status = description[\"TrainingJobStatus\"]\n",
    "    rule_job_summary = algorithm_mode_default_estimator.latest_training_job.rule_job_summary()\n",
    "    rule_evaluation_status = rule_job_summary[0][\"RuleEvaluationStatus\"]\n",
    "    print(\"Training job status: {}, Rule Evaluation Status: {}\".format(training_job_status, rule_evaluation_status))\n",
    "\n",
    "    if rule_evaluation_status in [\"Stopped\", \"IssuesFound\", \"NoIssuesFound\"]:\n",
    "        break\n",
    "\n",
    "    time.sleep(10)"
   ]
  },
  {
   "cell_type": "markdown",
   "metadata": {},
   "source": [
    "### Check the status of the Rule Evaluation Job\n",
    "\n",
    "To get the rule evaluation job that Amazon SageMaker started for you, run the command below. The results show you the `RuleConfigurationName`, `RuleEvaluationJobArn`, `RuleEvaluationStatus`, `StatusDetails`, and `RuleEvaluationJobArn`.\n",
    "If the tensors meets a rule evaluation condition, the rule execution job throws a client error with `RuleEvaluationConditionMet`.\n",
    "\n",
    "The logs of the rule evaluation job are available in the Cloudwatch Logstream `/aws/sagemaker/ProcessingJobs` with `RuleEvaluationJobArn`.\n",
    "\n",
    "You can see that once the rule execution job starts, it identifies the loss not decreasing situation in the training job, it raises the `RuleEvaluationConditionMet` exception, and it ends the job."
   ]
  },
  {
   "cell_type": "code",
   "execution_count": null,
   "metadata": {},
   "outputs": [],
   "source": [
    "algorithm_mode_default_estimator.latest_training_job.rule_job_summary()"
   ]
  },
  {
   "cell_type": "markdown",
   "metadata": {},
   "source": [
    "## Making this a good run\n",
    "\n",
    "In previous example, you saw how a LossNotDecreasing rule was run that analyzed the tensors when training was running and produced an alert.\n",
    "\n",
    "You can go back and change the hyperparameters passed to the estimator to `hyperparameters` and start a new training job (e.g., use a smaller learning rate `eta=0.05`). You can see that the LossNotDecreasing rule is not fired in that case as both `train-rmse` and `validation-rmse` keep decreasing steadily throughout the entire training duration."
   ]
  },
  {
   "cell_type": "markdown",
   "metadata": {},
   "source": [
    "## Data Analysis - Manual\n",
    "\n",
    "Now that you've trained the system, analyze the data.\n",
    "Here, you focus on after-the-fact analysis.\n",
    "\n",
    "You import a basic analysis library, which defines the concept of trial, which represents a single training run."
   ]
  },
  {
   "cell_type": "code",
   "execution_count": null,
   "metadata": {},
   "outputs": [],
   "source": [
    "from smdebug.trials import create_trial\n",
    "\n",
    "s3_output_path = algorithm_mode_default_estimator.latest_job_debugger_artifacts_path()\n",
    "trial = create_trial(s3_output_path)"
   ]
  },
  {
   "cell_type": "markdown",
   "metadata": {},
   "source": [
    "You can list all the tensors that you know something about. Each one of these names is the name of a tensor. The name is a combination of the feature name, which in these cases, is auto-assigned by XGBoost, and whether it's an evaluation metric, feature importance, or SHAP value."
   ]
  },
  {
   "cell_type": "code",
   "execution_count": null,
   "metadata": {},
   "outputs": [],
   "source": [
    "trial.tensor_names()"
   ]
  },
  {
   "cell_type": "markdown",
   "metadata": {},
   "source": [
    "For each tensor, ask for the steps where you have data. In this case, every five steps"
   ]
  },
  {
   "cell_type": "code",
   "execution_count": null,
   "metadata": {},
   "outputs": [],
   "source": [
    "trial.tensor(\"train-error\").steps()"
   ]
  },
  {
   "cell_type": "markdown",
   "metadata": {},
   "source": [
    "You can obtain each tensor at each step as a NumPy array."
   ]
  },
  {
   "cell_type": "code",
   "execution_count": null,
   "metadata": {},
   "outputs": [],
   "source": [
    "type(trial.tensor(\"validation-error\").value(10))"
   ]
  },
  {
   "cell_type": "markdown",
   "metadata": {},
   "source": [
    "### Performance metrics\n",
    "\n",
    "You can also create a simple function that visualizes the training and validation errors as the training progresses.\n",
    "Each gradient should get smaller over time, as the system converges to a good solution.\n",
    "Remember that this is an interactive analysis. You are showing these tensors to give an idea of the data."
   ]
  },
  {
   "cell_type": "code",
   "execution_count": null,
   "metadata": {},
   "outputs": [],
   "source": [
    "import matplotlib.pyplot as plt\n",
    "import seaborn as sns\n",
    "import re\n",
    "\n",
    "\n",
    "def get_data(trial, tname):\n",
    "    \"\"\"\n",
    "    For the given tensor name, walks though all the iterations\n",
    "    for which you have data and fetches the values.\n",
    "    Returns the set of steps and the values.\n",
    "    \"\"\"\n",
    "    tensor = trial.tensor(tname)\n",
    "    steps = tensor.steps()\n",
    "    vals = [tensor.value(s) for s in steps]\n",
    "    return steps, vals\n",
    "\n",
    "def plot_collection(trial, collection_name, regex='.*', figsize=(8, 6)):\n",
    "    \"\"\"\n",
    "    Takes a `trial` and a collection name, and \n",
    "    plots all tensors that match the given regex.\n",
    "    \"\"\"\n",
    "    fig, ax = plt.subplots(figsize=figsize)\n",
    "    sns.despine()\n",
    "\n",
    "    tensors = trial.collection(collection_name).tensor_names\n",
    "\n",
    "    for tensor_name in sorted(tensors):\n",
    "        if re.match(regex, tensor_name):\n",
    "            steps, data = get_data(trial, tensor_name)\n",
    "            ax.plot(steps, data, label=tensor_name)\n",
    "\n",
    "    ax.legend(loc='center left', bbox_to_anchor=(1, 0.5))\n",
    "    ax.set_xlabel('Iteration')"
   ]
  },
  {
   "cell_type": "code",
   "execution_count": null,
   "metadata": {},
   "outputs": [],
   "source": [
    "plot_collection(trial, \"metrics\")"
   ]
  },
  {
   "cell_type": "markdown",
   "metadata": {},
   "source": [
    "### Feature importances\n",
    "\n",
    "You can also visualize the feature priorities as determined by\n",
    "[xgboost.get_score()](https://xgboost.readthedocs.io/en/latest/python/python_api.html#xgboost.Booster.get_score).\n",
    "If you instructed Estimator to log the `feature_importance` collection, all five importance types supported by `xgboost.get_score()` will be available in the collection."
   ]
  },
  {
   "cell_type": "code",
   "execution_count": null,
   "metadata": {},
   "outputs": [],
   "source": [
    "def plot_feature_importance(trial, importance_type=\"weight\"):\n",
    "    SUPPORTED_IMPORTANCE_TYPES = [\"weight\", \"gain\", \"cover\", \"total_gain\", \"total_cover\"]\n",
    "    if importance_type not in SUPPORTED_IMPORTANCE_TYPES:\n",
    "        raise ValueError(f\"{importance_type} is not one of the supported importance types.\")\n",
    "    plot_collection(\n",
    "        trial,\n",
    "        \"feature_importance\",\n",
    "        regex=f\"feature_importance/{importance_type}/.*\")"
   ]
  },
  {
   "cell_type": "code",
   "execution_count": null,
   "metadata": {},
   "outputs": [],
   "source": [
    "plot_feature_importance(trial)"
   ]
  },
  {
   "cell_type": "code",
   "execution_count": null,
   "metadata": {},
   "outputs": [],
   "source": [
    "plot_feature_importance(trial, importance_type=\"cover\")"
   ]
  },
  {
   "cell_type": "markdown",
   "metadata": {},
   "source": [
    "### SHAP\n",
    "\n",
    "[SHAP](https://github.com/slundberg/shap) (SHapley Additive exPlanations) is\n",
    "another approach to explain the output of machine learning models.\n",
    "SHAP values represent a feature's contribution to a change in the model output.\n",
    "You instructed Estimator to log the average SHAP values in this example so the SHAP values (as calculated by [xgboost.predict(pred_contribs=True)](https://xgboost.readthedocs.io/en/latest/python/python_api.html#xgboost.Booster.predict)) will be available the `average_shap` collection."
   ]
  },
  {
   "cell_type": "code",
   "execution_count": null,
   "metadata": {},
   "outputs": [],
   "source": [
    "plot_collection(trial,\"average_shap\")"
   ]
  },
  {
   "cell_type": "code",
   "execution_count": null,
   "metadata": {},
   "outputs": [],
   "source": [
    "job_name = algorithm_mode_default_estimator.latest_training_job.name\n",
    "!rm -rf rule-output\n",
    "!aws s3 cp --recursive s3://{bucket}/{job_name}/rule-output/ rule-output"
   ]
  },
  {
   "cell_type": "code",
   "execution_count": null,
   "metadata": {},
   "outputs": [],
   "source": []
  }
 ],
 "metadata": {
  "kernelspec": {
   "display_name": "conda_python3",
   "language": "python",
   "name": "conda_python3"
  },
  "language_info": {
   "codemirror_mode": {
    "name": "ipython",
    "version": 3
   },
   "file_extension": ".py",
   "mimetype": "text/x-python",
   "name": "python",
   "nbconvert_exporter": "python",
   "pygments_lexer": "ipython3",
   "version": "3.6.13"
  }
 },
 "nbformat": 4,
 "nbformat_minor": 2
}
